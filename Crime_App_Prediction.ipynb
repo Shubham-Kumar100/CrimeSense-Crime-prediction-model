{
 "cells": [
  {
   "cell_type": "code",
   "execution_count": 1,
   "id": "d8ee05e3-c71d-4590-9896-6519f02c6c29",
   "metadata": {},
   "outputs": [],
   "source": [
    "import pandas as pd\n",
    "import numpy as np\n",
    "import matplotlib.pyplot as plt\n",
    "import seaborn as sns\n",
    "import pickle\n",
    "\n",
    "from sklearn.model_selection import train_test_split\n",
    "from sklearn.ensemble import RandomForestClassifier\n",
    "from sklearn.metrics import classification_report, accuracy_score"
   ]
  },
  {
   "cell_type": "code",
   "execution_count": 2,
   "id": "9f8c993e-909c-4bf6-881d-d204601c5d42",
   "metadata": {},
   "outputs": [],
   "source": [
    "chunk_size = 100000  # Try 100k rows at a time\n",
    "file_path = 'Crimes_-_2001_to_Present_20250427.csv'"
   ]
  },
  {
   "cell_type": "code",
   "execution_count": 3,
   "id": "994c2fa0-6c80-4b5c-bd7e-b7e0cd124202",
   "metadata": {},
   "outputs": [],
   "source": [
    "selected_features = ['Year', 'Month', 'Day', 'DayOfWeek', 'Minute', 'Second', 'Latitude', 'Longitude']\n",
    "target_column = 'Primary Type'\n",
    "\n",
    "# Prepare empty list to store chunks\n",
    "chunks_list = []"
   ]
  },
  {
   "cell_type": "code",
   "execution_count": 5,
   "id": "4d9784ad-2744-4408-9741-b395f25f37ca",
   "metadata": {},
   "outputs": [],
   "source": [
    "for chunk in pd.read_csv(file_path, chunksize=chunk_size):\n",
    "    # Extract Date parts\n",
    "    chunk['Month'] = pd.to_datetime(chunk['Date'], format='%m/%d/%Y %I:%M:%S %p', errors='coerce').dt.month\n",
    "    chunk['Day'] = pd.to_datetime(chunk['Date'], format='%m/%d/%Y %I:%M:%S %p', errors='coerce').dt.day\n",
    "    chunk['DayOfWeek'] = pd.to_datetime(chunk['Date'], format='%m/%d/%Y %I:%M:%S %p', errors='coerce').dt.dayofweek\n",
    "    chunk['Minute'] = pd.to_datetime(chunk['Date'], format='%m/%d/%Y %I:%M:%S %p', errors='coerce').dt.minute\n",
    "    chunk['Second'] = pd.to_datetime(chunk['Date'], format='%m/%d/%Y %I:%M:%S %p', errors='coerce').dt.second\n"
   ]
  },
  {
   "cell_type": "code",
   "execution_count": 6,
   "id": "5a07e6fc-aebd-4a5a-ba0d-918f0fade633",
   "metadata": {},
   "outputs": [
    {
     "name": "stdout",
     "output_type": "stream",
     "text": [
      "Processed a chunk of size 280\n"
     ]
    }
   ],
   "source": [
    "    chunk = chunk.dropna(subset=selected_features + [target_column])\n",
    "\n",
    "    # Keep only needed columns\n",
    "    chunk = chunk[selected_features + [target_column]]\n",
    "\n",
    "    # (Optional) Downsample if chunk is still too big\n",
    "    chunk = chunk.sample(frac=0.2, random_state=42)  # take 20% from each chunk to limit memory\n",
    "\n",
    "    # Add to list\n",
    "    chunks_list.append(chunk)\n",
    "\n",
    "    print(f\"Processed a chunk of size {len(chunk)}\")"
   ]
  },
  {
   "cell_type": "code",
   "execution_count": 7,
   "id": "8cc7f570-51ef-47f7-8631-2cf243eb29ca",
   "metadata": {},
   "outputs": [
    {
     "name": "stdout",
     "output_type": "stream",
     "text": [
      "Total data collected: (280, 9)\n"
     ]
    }
   ],
   "source": [
    "data = pd.concat(chunks_list, ignore_index=True)\n",
    "\n",
    "print(f\"Total data collected: {data.shape}\")"
   ]
  },
  {
   "cell_type": "code",
   "execution_count": 8,
   "id": "5515719e-5e5c-4d7e-98d9-db4b9a355df5",
   "metadata": {},
   "outputs": [],
   "source": [
    "X = data[selected_features]\n",
    "y = data[target_column]\n",
    "\n",
    "# Step 3: Train-Test Split\n",
    "X_train, X_test, y_train, y_test = train_test_split(X, y, test_size=0.3, random_state=42)\n"
   ]
  },
  {
   "cell_type": "code",
   "execution_count": 9,
   "id": "fda7da89-4612-4a6b-affe-8a1ef7dc525a",
   "metadata": {},
   "outputs": [
    {
     "name": "stdout",
     "output_type": "stream",
     "text": [
      "Accuracy Score: 0.20238095238095238\n",
      "\n",
      "Classification Report:\n",
      "                          precision    recall  f1-score   support\n",
      "\n",
      "                ASSAULT       0.20      0.17      0.18         6\n",
      "                BATTERY       0.32      0.32      0.32        19\n",
      "               BURGLARY       0.33      0.33      0.33         3\n",
      "        CRIMINAL DAMAGE       0.18      0.18      0.18        11\n",
      "CRIMINAL SEXUAL ASSAULT       0.00      0.00      0.00         0\n",
      "      CRIMINAL TRESPASS       0.00      0.00      0.00         3\n",
      "     DECEPTIVE PRACTICE       0.00      0.00      0.00         7\n",
      "    MOTOR VEHICLE THEFT       0.00      0.00      0.00         2\n",
      "              NARCOTICS       0.00      0.00      0.00         3\n",
      "          OTHER OFFENSE       0.25      0.14      0.18         7\n",
      "               STALKING       0.00      0.00      0.00         0\n",
      "                  THEFT       0.19      0.29      0.23        17\n",
      "      WEAPONS VIOLATION       0.50      0.17      0.25         6\n",
      "\n",
      "               accuracy                           0.20        84\n",
      "              macro avg       0.15      0.12      0.13        84\n",
      "           weighted avg       0.22      0.20      0.20        84\n",
      "\n"
     ]
    },
    {
     "name": "stderr",
     "output_type": "stream",
     "text": [
      "C:\\Python312\\Lib\\site-packages\\sklearn\\metrics\\_classification.py:1565: UndefinedMetricWarning: Precision is ill-defined and being set to 0.0 in labels with no predicted samples. Use `zero_division` parameter to control this behavior.\n",
      "  _warn_prf(average, modifier, f\"{metric.capitalize()} is\", len(result))\n",
      "C:\\Python312\\Lib\\site-packages\\sklearn\\metrics\\_classification.py:1565: UndefinedMetricWarning: Recall is ill-defined and being set to 0.0 in labels with no true samples. Use `zero_division` parameter to control this behavior.\n",
      "  _warn_prf(average, modifier, f\"{metric.capitalize()} is\", len(result))\n",
      "C:\\Python312\\Lib\\site-packages\\sklearn\\metrics\\_classification.py:1565: UndefinedMetricWarning: Precision is ill-defined and being set to 0.0 in labels with no predicted samples. Use `zero_division` parameter to control this behavior.\n",
      "  _warn_prf(average, modifier, f\"{metric.capitalize()} is\", len(result))\n",
      "C:\\Python312\\Lib\\site-packages\\sklearn\\metrics\\_classification.py:1565: UndefinedMetricWarning: Recall is ill-defined and being set to 0.0 in labels with no true samples. Use `zero_division` parameter to control this behavior.\n",
      "  _warn_prf(average, modifier, f\"{metric.capitalize()} is\", len(result))\n",
      "C:\\Python312\\Lib\\site-packages\\sklearn\\metrics\\_classification.py:1565: UndefinedMetricWarning: Precision is ill-defined and being set to 0.0 in labels with no predicted samples. Use `zero_division` parameter to control this behavior.\n",
      "  _warn_prf(average, modifier, f\"{metric.capitalize()} is\", len(result))\n",
      "C:\\Python312\\Lib\\site-packages\\sklearn\\metrics\\_classification.py:1565: UndefinedMetricWarning: Recall is ill-defined and being set to 0.0 in labels with no true samples. Use `zero_division` parameter to control this behavior.\n",
      "  _warn_prf(average, modifier, f\"{metric.capitalize()} is\", len(result))\n"
     ]
    }
   ],
   "source": [
    "model = RandomForestClassifier(n_estimators=100, random_state=42)\n",
    "model.fit(X_train, y_train)\n",
    "\n",
    "# Step 5: Evaluation\n",
    "y_pred = model.predict(X_test)\n",
    "print(\"Accuracy Score:\", accuracy_score(y_test, y_pred))\n",
    "print(\"\\nClassification Report:\\n\", classification_report(y_test, y_pred))"
   ]
  },
  {
   "cell_type": "code",
   "execution_count": 10,
   "id": "ab21feb3-3f20-42cd-953c-ba1746ce3a8f",
   "metadata": {},
   "outputs": [
    {
     "name": "stdout",
     "output_type": "stream",
     "text": [
      "Model saved as 'crime_prediction_model.pkl'\n"
     ]
    },
    {
     "data": {
      "image/png": "[encoded data removed]",
      "text/plain": [
       "<Figure size 640x480 with 1 Axes>"
      ]
     },
     "metadata": {},
     "output_type": "display_data"
    }
   ],
   "source": [
    "with open('crime_prediction_model.pkl', 'wb') as file:\n",
    "    pickle.dump(model, file)\n",
    "\n",
    "print(\"Model saved as 'crime_prediction_model.pkl'\")\n",
    "\n",
    "# Step 7: Feature Importance Plot\n",
    "feature_importances = pd.Series(model.feature_importances_, index=X.columns)\n",
    "feature_importances.sort_values(ascending=False).plot(kind='bar')\n",
    "plt.title('Feature Importance')\n",
    "plt.show()"
   ]
  },
  {
   "cell_type": "code",
   "execution_count": null,
   "id": "069650af-b004-40d8-a665-c1b2cf6306e1",
   "metadata": {},
   "outputs": [],
   "source": []
  }
 ],
 "metadata": {
  "kernelspec": {
   "display_name": "Python 3 (ipykernel)",
   "language": "python",
   "name": "python3"
  },
  "language_info": {
   "codemirror_mode": {
    "name": "ipython",
    "version": 3
   },
   "file_extension": ".py",
   "mimetype": "text/x-python",
   "name": "python",
   "nbconvert_exporter": "python",
   "pygments_lexer": "ipython3",
   "version": "3.12.0"
  }
 },
 "nbformat": 4,
 "nbformat_minor": 5
}
